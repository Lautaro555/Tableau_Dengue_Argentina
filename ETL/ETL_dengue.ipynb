{
 "cells": [
  {
   "cell_type": "code",
   "execution_count": 1,
   "metadata": {},
   "outputs": [],
   "source": [
    "import pandas as pd"
   ]
  },
  {
   "cell_type": "code",
   "execution_count": 6,
   "metadata": {},
   "outputs": [],
   "source": [
    "df_2021=pd.read_excel(\"../Datasets/1648473440-6ff92f5b32926ebfb17725a0ab8e991652470725-informacion-publica-dengue-zika-nacional-ha.xlsx\")\n",
    "df_2020=pd.read_excel(\"../Datasets/informacion-publica-dengue-zika-nacional-hasta-20201231_1.xlsx\")\n",
    "df_2018=pd.read_excel(\"../Datasets/vigilancia-de-dengue-y-zika-201812.xls\")\n",
    "df_2019=pd.read_excel(\"../Datasets/informacion-publica-dengue-zika-nacional-hasta-20191231_3.xlsx\")"
   ]
  },
  {
   "cell_type": "code",
   "execution_count": 17,
   "metadata": {},
   "outputs": [],
   "source": [
    "df_2021[\"provincia_nombre\"]=df_2021[\"provincia_id\"]\n",
    "\n",
    "df_2020[\"grupo_edad_desc\"]=df_2020[\"grupo_edad_id\"]\n",
    "for index, row in df_2020.iterrows():\n",
    "    if row['semanas_epidemiologicas'] == 'Dengue ':\n",
    "        df_2020.loc[index, 'semanas_epidemiologicas'] = row['evento_nombre']\n",
    "        df_2020.loc[index, 'evento_nombre'] = 'Dengue'\n",
    "df_2020[\"semanas_epidemiologicas\"]=df_2020[\"semanas_epidemiologicas\"].astype(\"int64\")\n",
    "\n",
    "df_2018[\"cantidad_casos\"]=df_2020[\"cantidad_casos\"].astype(\"int64\")\n",
    "df_2018[\"año\"]=df_2018[\"anio\"]\n"
   ]
  },
  {
   "cell_type": "code",
   "execution_count": 52,
   "metadata": {},
   "outputs": [],
   "source": [
    "df_2018_b=df_2018[(df_2018[\"evento_nombre\"]==\"Dengue\")][[\"año\",\"provincia_nombre\",\"grupo_edad_desc\",\"cantidad_casos\"]]\n",
    "df_2019_b=df_2019[(df_2019[\"evento_nombre\"]==\"Dengue\")][[\"año\",\"provincia_nombre\",\"grupo_edad_desc\",\"cantidad_casos\"]]\n",
    "df_2020_b=df_2020[(df_2020[\"evento_nombre\"]==\"Dengue\")][[\"año\",\"provincia_nombre\",\"grupo_edad_desc\",\"cantidad_casos\"]]\n",
    "df_2021_b=df_2021[(df_2021[\"evento_nombre\"]==\"Dengue\")][[\"año\",\"provincia_nombre\",\"grupo_edad_desc\",\"cantidad_casos\"]]"
   ]
  },
  {
   "cell_type": "code",
   "execution_count": 54,
   "metadata": {},
   "outputs": [],
   "source": [
    "df_final=pd.concat([df_2018_b,df_2019_b,df_2020_b,df_2021_b])"
   ]
  },
  {
   "cell_type": "code",
   "execution_count": 56,
   "metadata": {},
   "outputs": [],
   "source": [
    "df_final.to_excel(\"dengue_final.xlsx\",index=False)"
   ]
  }
 ],
 "metadata": {
  "kernelspec": {
   "display_name": "Python 3",
   "language": "python",
   "name": "python3"
  },
  "language_info": {
   "codemirror_mode": {
    "name": "ipython",
    "version": 3
   },
   "file_extension": ".py",
   "mimetype": "text/x-python",
   "name": "python",
   "nbconvert_exporter": "python",
   "pygments_lexer": "ipython3",
   "version": "3.10.7"
  },
  "orig_nbformat": 4
 },
 "nbformat": 4,
 "nbformat_minor": 2
}
